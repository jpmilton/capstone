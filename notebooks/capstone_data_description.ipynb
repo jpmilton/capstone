{
 "cells": [
  {
   "cell_type": "markdown",
   "metadata": {},
   "source": [
    "# Analysis of Indian Restaurants in and around Brick Lane, London\n",
    "\n",
    "## Data Description\n",
    "This analysis will use location and rating data from Foursquare. Focus will be on venues categorised by Foursquare as\n",
    "*Indian Restaurants*. \n",
    "\n",
    "Entries which are otherwise categorised or do not have a customer rating will be excluded from the dataset.\n",
    "\n",
    "This data will give the geographic location of Indian Restaurants in the vicinity of Brick Lane, allowing representation on a Folium map. \n",
    "\n",
    "The distance *as the crow flies* from the venue to the centre of Brick Lane, or to the *Silicon Roundabout* can be calculated to investigate any relationship between proximity and customer ratings. Numerical data such as position and rating are conducive to use of clustering algorithms as part of the analysis.\n",
    "\n",
    "*Ratings* are a premium feature of the Four Square API and is limited to 50 queries per day. It is hoped the dataset will be larger than this, consequently the data set will need to be built up over several days. Data will be stored in a CSV file as a persistent form is easiily read into and written from the Pandas library.\n",
    "\n",
    "In order to generate a sufficiently large dataset, multiple queries to Foursquare will be needed. The unique venue reference will be stored with each record and used to ensure venues are not duplciated in the final data set.\n"
   ]
  },
  {
   "cell_type": "markdown",
   "metadata": {},
   "source": [
    "## Example Data\n",
    "\n",
    "    ,id,name,categories,lat,lng,postalCode,rating\n",
    "    0,5040721ae4b01446aa41d438,Dishoom,Indian Restaurant,51.52451482185366,-0.0768497140891246,E2 7JE,9.4\n",
    "    1,56465da7498ec6f39fb6dee5,Gunpowder,Indian Restaurant,51.518436325253475,-0.0747323376373174,E1 7NF,8.9\n",
    "    2,4c712d74fa49a1cdee11a8e3,Dosa World,Indian Restaurant,51.520245,-0.07135816,E1 5JL,8.3\n",
    "    3,58cafdcece593d315f7bf042,Meraz Cafe,Indian Restaurant,51.520255999999996,-0.071085,E1 5JL,8.8\n",
    "    4,52f38b8b498e41cb2f27edcd,Tifinbox,Indian Restaurant,51.51634524607388,-0.07719514759508632,E1 7DB,8.4\n",
    "    5,4b7418d4f964a520b6c72de3,Cafe Spice Namaste,Indian Restaurant,51.51148456888737,-0.07069308621645129,E1 8AZ,7.8\n"
   ]
  },
  {
   "cell_type": "code",
   "execution_count": null,
   "metadata": {
    "collapsed": true
   },
   "outputs": [],
   "source": []
  }
 ],
 "metadata": {
  "anaconda-cloud": {},
  "kernelspec": {
   "display_name": "Python [conda root]",
   "language": "python",
   "name": "conda-root-py"
  },
  "language_info": {
   "codemirror_mode": {
    "name": "ipython",
    "version": 3
   },
   "file_extension": ".py",
   "mimetype": "text/x-python",
   "name": "python",
   "nbconvert_exporter": "python",
   "pygments_lexer": "ipython3",
   "version": "3.5.2"
  }
 },
 "nbformat": 4,
 "nbformat_minor": 1
}
