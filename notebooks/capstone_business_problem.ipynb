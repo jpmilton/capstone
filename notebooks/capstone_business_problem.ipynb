{
 "cells": [
  {
   "cell_type": "markdown",
   "metadata": {},
   "source": [
    "# Analysis of Indian Restaurants in and around Brick Lane, London\n",
    "\n",
    "## Problem Definition\n",
    "\n",
    "Brick Lane is an historic street to the NW of central London, and dates back approximately 450 years. Once the scene\n",
    "of the crimes of Jack the Ripper murders, and home to the old Truman Brewery, it now has become a hub for the local\n",
    "artistic community featuring galleries, markets and festivals a throughout the year.\n",
    "\n",
    "Being the centre of the local Bangladesh community, Brick Lane has gained the reputation as the centre of authentic\n",
    "Indian cuisine in London. This analysis examines the density of Indian restaurants in and around Brick Lane, and asks the \n",
    "question whether this reputation is deserved. Is there a high density of restaurants, and how well are they rated by \n",
    "their patrons? Is Brick Lane a centre of good quality Indian cuisine, or is it a tourist trap?\n",
    "\n",
    "This region of London is also home to many up and coming technology companies. The *Old Street Roundabout*, \n",
    "nicknamed *The Silicon Roundabout*, refers to the area between Old Street and Shoreditch, which has a high concentration\n",
    "of technology businesses and start ups, and neighbours Brick Lane.\n",
    "\n",
    "### Stakeholders\n",
    "The stakeholders for this investigation are envisaged to be entrepreneurs planning on launching a high quality, premium \n",
    "Indian restaurant in the vicinity of *Silicon Roundabout*. Aiming to target the relatively affluent technology community\n",
    "as potential customers in this area, Brick Lane is a potential location to site a new restaurant, being walking distance\n",
    "from the centre of the London technology scene.\n",
    "\n"
   ]
  },
  {
   "cell_type": "code",
   "execution_count": null,
   "metadata": {
    "collapsed": true
   },
   "outputs": [],
   "source": []
  }
 ],
 "metadata": {
  "anaconda-cloud": {},
  "kernelspec": {
   "display_name": "Python [conda root]",
   "language": "python",
   "name": "conda-root-py"
  },
  "language_info": {
   "codemirror_mode": {
    "name": "ipython",
    "version": 3
   },
   "file_extension": ".py",
   "mimetype": "text/x-python",
   "name": "python",
   "nbconvert_exporter": "python",
   "pygments_lexer": "ipython3",
   "version": "3.5.2"
  }
 },
 "nbformat": 4,
 "nbformat_minor": 1
}
